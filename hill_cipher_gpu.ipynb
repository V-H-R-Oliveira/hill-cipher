{
 "cells": [
  {
   "cell_type": "code",
   "execution_count": 2,
   "id": "allied-cameroon",
   "metadata": {},
   "outputs": [],
   "source": [
    "import string\n",
    "\n",
    "import numpy as np\n",
    "import cupy as cp"
   ]
  },
  {
   "cell_type": "markdown",
   "id": "operating-consent",
   "metadata": {},
   "source": [
    "# Cuda Device Info"
   ]
  },
  {
   "cell_type": "code",
   "execution_count": 3,
   "id": "reverse-editor",
   "metadata": {},
   "outputs": [
    {
     "name": "stdout",
     "output_type": "stream",
     "text": [
      "Detected devices: 1\n",
      "Device info: {'name': b'GeForce GTX 1660 SUPER', 'totalGlobalMem': 6230114304, 'sharedMemPerBlock': 49152, 'regsPerBlock': 65536, 'warpSize': 32, 'maxThreadsPerBlock': 1024, 'maxThreadsDim': (1024, 1024, 64), 'maxGridSize': (2147483647, 65535, 65535), 'clockRate': 1800000, 'totalConstMem': 65536, 'major': 7, 'minor': 5, 'textureAlignment': 512, 'texturePitchAlignment': 32, 'multiProcessorCount': 22, 'kernelExecTimeoutEnabled': 1, 'integrated': 0, 'canMapHostMemory': 1, 'computeMode': 0, 'maxTexture1D': 131072, 'maxTexture2D': (131072, 65536), 'maxTexture3D': (16384, 16384, 16384), 'concurrentKernels': 1, 'ECCEnabled': 0, 'pciBusID': 1, 'pciDeviceID': 0, 'pciDomainID': 0, 'tccDriver': 0, 'memoryClockRate': 7001000, 'memoryBusWidth': 192, 'l2CacheSize': 1572864, 'maxThreadsPerMultiProcessor': 1024, 'isMultiGpuBoard': 0, 'cooperativeLaunch': 1, 'cooperativeMultiDeviceLaunch': 1, 'deviceOverlap': 1, 'maxTexture1DMipmap': 32768, 'maxTexture1DLinear': 268435456, 'maxTexture1DLayered': (32768, 2048), 'maxTexture2DMipmap': (32768, 32768), 'maxTexture2DLinear': (131072, 65000, 2097120), 'maxTexture2DLayered': (32768, 32768, 2048), 'maxTexture2DGather': (32768, 32768), 'maxTexture3DAlt': (8192, 8192, 32768), 'maxTextureCubemap': 32768, 'maxTextureCubemapLayered': (32768, 2046), 'maxSurface1D': 32768, 'maxSurface1DLayered': (32768, 2048), 'maxSurface2D': (131072, 65536), 'maxSurface2DLayered': (32768, 32768, 2048), 'maxSurface3D': (16384, 16384, 16384), 'maxSurfaceCubemap': 32768, 'maxSurfaceCubemapLayered': (32768, 2046), 'surfaceAlignment': 512, 'asyncEngineCount': 3, 'unifiedAddressing': 1, 'streamPrioritiesSupported': 1, 'globalL1CacheSupported': 1, 'localL1CacheSupported': 1, 'sharedMemPerMultiprocessor': 65536, 'regsPerMultiprocessor': 65536, 'managedMemory': 1, 'multiGpuBoardGroupID': 0, 'hostNativeAtomicSupported': 0, 'singleToDoublePrecisionPerfRatio': 32, 'pageableMemoryAccess': 0, 'concurrentManagedAccess': 1, 'computePreemptionSupported': 1, 'canUseHostPointerForRegisteredMem': 1, 'sharedMemPerBlockOptin': 65536, 'pageableMemoryAccessUsesHostPageTables': 0, 'directManagedMemAccessFromHost': 0, 'uuid': b'\\x80L\\x8e\\t\\x9e^d\\x036-\\xe9o\\xb2\\x0b\\xd5R', 'luid': b'', 'luidDeviceNodeMask': 0}\n"
     ]
    }
   ],
   "source": [
    "print('Detected devices:', cp.cuda.runtime.getDeviceCount())\n",
    "print('Device info:', cp.cuda.runtime.getDeviceProperties(0))"
   ]
  },
  {
   "cell_type": "markdown",
   "id": "broadband-simpson",
   "metadata": {},
   "source": [
    "# Creating the cipher alphabet\n",
    "\n",
    "The alpabeth must have a prime length. "
   ]
  },
  {
   "cell_type": "code",
   "execution_count": 9,
   "id": "vital-supply",
   "metadata": {},
   "outputs": [
    {
     "name": "stdout",
     "output_type": "stream",
     "text": [
      "Alpabeth length: 67\n"
     ]
    }
   ],
   "source": [
    "alphabet = dict((i, letter) for i, letter in enumerate(\"_\" + string.ascii_letters + string.digits + '.' + '?' + '!' + ','))\n",
    "inv_alphabet = dict((letter, i) for i, letter in enumerate(\"_\" + string.ascii_letters + string.digits + '.' + '?' + '!' + ','))\n",
    "alphabet_codes = [key for key in alphabet]\n",
    "mod = len(alphabet)\n",
    "print('Alpabeth length:', len(alphabet))"
   ]
  },
  {
   "cell_type": "markdown",
   "id": "absent-cotton",
   "metadata": {},
   "source": [
    "# Pick a random key"
   ]
  },
  {
   "cell_type": "code",
   "execution_count": 48,
   "id": "frozen-mumbai",
   "metadata": {},
   "outputs": [
    {
     "data": {
      "text/plain": [
       "array([[66,  1,  3, 21, 26,  3],\n",
       "       [32, 50, 22, 37,  2,  3],\n",
       "       [ 4, 23,  1, 37,  4, 44],\n",
       "       [57, 36, 55,  6, 21, 45],\n",
       "       [12, 40, 60, 52, 24, 44],\n",
       "       [19, 28, 28,  4, 43, 42]])"
      ]
     },
     "execution_count": 48,
     "metadata": {},
     "output_type": "execute_result"
    }
   ],
   "source": [
    "l = 6\n",
    "\n",
    "while True:\n",
    "    key = cp.random.choice(alphabet_codes, (l, l))\n",
    "    det = cp.linalg.det(key).round().astype(cp.int64) % mod\n",
    "    \n",
    "    if det != 0 and cp.gcd(det, len(alphabet)) == 1:\n",
    "        break\n",
    "key"
   ]
  },
  {
   "cell_type": "markdown",
   "id": "isolated-night",
   "metadata": {},
   "source": [
    "# Get user message\n"
   ]
  },
  {
   "cell_type": "code",
   "execution_count": 49,
   "id": "solved-starter",
   "metadata": {},
   "outputs": [
    {
     "name": "stdin",
     "output_type": "stream",
     "text": [
      "Enter a message: vitor oliveira\n"
     ]
    },
    {
     "name": "stdout",
     "output_type": "stream",
     "text": [
      "[[22  9 20 15 18  0 15 12  9]\n",
      " [22  5  9 18  1  0  0  0  0]\n",
      " [ 0  0  0  0  0  0  0  0  0]\n",
      " [ 0  0  0  0  0  0  0  0  0]\n",
      " [ 0  0  0  0  0  0  0  0  0]\n",
      " [ 0  0  0  0  0  0  0  0  0]]\n"
     ]
    }
   ],
   "source": [
    "user_msg = input('Enter a message:')\n",
    "preprocessed_msg = user_msg.strip().replace(\" \", \"_\")\n",
    "msg = np.array([inv_alphabet.get(char, np.nan) for char in preprocessed_msg])\n",
    "\n",
    "if np.isnan(np.sum(msg)):\n",
    "    print('An invalid character was detected.')\n",
    "elif msg.shape[0] < key.shape[0]:\n",
    "    print(f'Invalid length. {msg.shape[0]} < {key.shape[0]}')\n",
    "else:\n",
    "    original_msg_len = len(msg)\n",
    "    msg.resize((key.shape[0], 1 + msg.shape[0] - key.shape[0]))\n",
    "    msg = cp.array(msg)\n",
    "    print(msg)"
   ]
  },
  {
   "cell_type": "markdown",
   "id": "unauthorized-participant",
   "metadata": {},
   "source": [
    "# Encryption\n",
    "\n",
    "- $K$ represents the $n \\times n$ Key matrix.\n",
    "- $M$ represents the $n \\times k$ Message matrix, which can be padded with $0$s.\n",
    "\n",
    "The cipher text, $C$, is generated with the following formula: $C = K \\cdot M$"
   ]
  },
  {
   "cell_type": "code",
   "execution_count": 50,
   "id": "dominican-concentrate",
   "metadata": {},
   "outputs": [
    {
     "name": "stdout",
     "output_type": "stream",
     "text": [
      "[[ 0 63 56  3 50  0 52 55 58]\n",
      " [62  2 18 40 23  0 11 49 20]\n",
      " [58 17 19  5 28  0 60 48 36]\n",
      " [36 23 57 29 57  0 51 14 44]\n",
      " [ 5 40 64 29 55  0 46 10 41]\n",
      " [29 43 29 52 35  0 17 27 37]]\n",
      "_.3cX_Z259brNw_kWt5qseB_7VJJw4C4_YnReN?C2_TjOCQCZI_qAK\n"
     ]
    }
   ],
   "source": [
    "encrypted_block = key.dot(msg) % mod\n",
    "encrypted_msg = encrypted_block.ravel().tolist()\n",
    "print(encrypted_block, ''.join([alphabet[char] for char in encrypted_msg]), sep='\\n')"
   ]
  },
  {
   "cell_type": "markdown",
   "id": "proof-buyer",
   "metadata": {},
   "source": [
    "# Decryption\n",
    "\n",
    "- $K^{-1}$ represents the inverted Key matrix. It can be generated with the following formula: $K^{-1} = d^{-1} \\times adj(K)$, where $d^{-1} = mmi(det(K), m) \\mod m$ is the Modular multiplicative inverse of $K$ determinant module by the alphabet length, $m$, and $adj(K)$ is the $K$ adjugate matrix. \n",
    "\n",
    "The decrypted text, $P$, is generated with the following formula: $P = K^{-1} \\cdot C$\n",
    "\n",
    "<!-- [inverse key matrix](https://crypto.interactive-maths.com/hill-cipher.html) -->"
   ]
  },
  {
   "cell_type": "code",
   "execution_count": 83,
   "id": "potential-strap",
   "metadata": {},
   "outputs": [],
   "source": [
    "# https://www.geeksforgeeks.org/multiplicative-inverse-under-modulo-m/\n",
    "# https://stackoverflow.com/a/6528024\n",
    "\n",
    "def modular_power(x, y, m):\n",
    "    if y == 0:\n",
    "        return 1\n",
    " \n",
    "    p = modular_power(x, y // 2, m) % m\n",
    "    p = (p * p) % m\n",
    " \n",
    "    if (y & 1)  == 0:\n",
    "        return p\n",
    "    return ((x * p) % m)\n",
    "\n",
    "def mmi(a, m):\n",
    "    g = cp.gcd(a, m)\n",
    "    \n",
    "    if g != 1:\n",
    "        return -1\n",
    "    \n",
    "    return modular_power(a, m - 2, m)\n",
    "\n",
    "def inverse_matrix(matrix, m):\n",
    "    det = cp.linalg.det(matrix).round().astype(cp.int64) % m\n",
    "    inv_det = mmi(det, m)\n",
    "    \n",
    "    return inv_det * (cp.linalg.inv(matrix.astype(cp.float64)) * cp.linalg.det(matrix) % m)"
   ]
  },
  {
   "cell_type": "code",
   "execution_count": 84,
   "id": "danish-deputy",
   "metadata": {},
   "outputs": [
    {
     "name": "stdout",
     "output_type": "stream",
     "text": [
      "[[22  9 20 15 18  0 15 12  9]\n",
      " [22  5  9 18  1  0  0  0  0]\n",
      " [ 0  0  0  0  0  0  0  0  0]\n",
      " [ 0  0  0  0  0  0  0  0  0]\n",
      " [ 0  0  0  0  0  0  0  0  0]\n",
      " [ 0  0  0  0  0  0  0  0  0]]\n",
      "vitor_oliveira\n"
     ]
    }
   ],
   "source": [
    "inverse_key = inverse_matrix(key, mod)\n",
    "decrypted_block = inverse_key.dot(encrypted_block).round().astype(cp.int64) % mod\n",
    "decrypted_msg = decrypted_block.ravel().tolist()\n",
    "\n",
    "if len(decrypted_msg) > original_msg_len:\n",
    "    diff = len(decrypted_msg) - original_msg_len\n",
    "    decrypted_msg = decrypted_msg[:-diff]\n",
    "\n",
    "try:\n",
    "    assert(cp.equal(decrypted_block, msg).all() == True)\n",
    "    print(decrypted_block, ''.join([alphabet[char] for char in decrypted_msg]), sep='\\n')\n",
    "except AssertionError:\n",
    "    print('Decryption failed.')"
   ]
  }
 ],
 "metadata": {
  "kernelspec": {
   "display_name": "Python 3",
   "language": "python",
   "name": "python3"
  },
  "language_info": {
   "codemirror_mode": {
    "name": "ipython",
    "version": 3
   },
   "file_extension": ".py",
   "mimetype": "text/x-python",
   "name": "python",
   "nbconvert_exporter": "python",
   "pygments_lexer": "ipython3",
   "version": "3.8.8"
  }
 },
 "nbformat": 4,
 "nbformat_minor": 5
}
